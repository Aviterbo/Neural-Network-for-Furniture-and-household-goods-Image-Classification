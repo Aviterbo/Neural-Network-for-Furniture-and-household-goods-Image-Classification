{
 "cells": [
  {
   "cell_type": "code",
   "execution_count": 1,
   "metadata": {},
   "outputs": [
    {
     "name": "stderr",
     "output_type": "stream",
     "text": [
      "/usr/local/lib/python3.5/dist-packages/h5py/__init__.py:36: FutureWarning: Conversion of the second argument of issubdtype from `float` to `np.floating` is deprecated. In future, it will be treated as `np.float64 == np.dtype(float).type`.\n",
      "  from ._conv import register_converters as _register_converters\n"
     ]
    }
   ],
   "source": [
    "import pickle\n",
    "import numpy as np\n",
    "import tensorflow as tf\n",
    "import cv2\n",
    "from sklearn.model_selection import train_test_split\n",
    "#from keras.utils.np_utils import to_categorical\n",
    "import os"
   ]
  },
  {
   "cell_type": "code",
   "execution_count": 2,
   "metadata": {},
   "outputs": [],
   "source": [
    "import pickle\n",
    "import numpy as np\n",
    "import cv2\n",
    "from sklearn.model_selection import train_test_split\n",
    "import os\n",
    "\n",
    "#loading from directory\n",
    "label = os.listdir(\"dataset_image\")\n",
    "dataset=[]\n",
    "for image_label in label:\n",
    "    images = os.listdir(\"dataset_image/\"+image_label)                 \n",
    "    for image in images:\n",
    "        img = cv2.imread(\"dataset_image/\"+image_label+\"/\"+image)\n",
    "        img = cv2.resize(img, (64, 64))\n",
    "        dataset.append((img,image_label))\n",
    "\n",
    "X=[]\n",
    "Y=[]\n",
    "#integer encode the labels\n",
    "for  input_image,image_label in dataset:\n",
    "    X.append(input_image)                          \n",
    "    Y.append(label.index(image_label))\n",
    "X=np.array(X)\n",
    "Y=np.array(Y)\n",
    "\n",
    "#data_set_train=(X_train,y_train)\n",
    "#data_set_test=(X_test,y_test)\n"
   ]
  },
  {
   "cell_type": "code",
   "execution_count": 3,
   "metadata": {},
   "outputs": [],
   "source": [
    "##split dataset\n",
    "X_train, X_test, y_train, y_test = train_test_split(X, Y, test_size=0.20, random_state=7)"
   ]
  },
  {
   "cell_type": "code",
   "execution_count": 4,
   "metadata": {},
   "outputs": [
    {
     "name": "stdout",
     "output_type": "stream",
     "text": [
      "y = 2\n"
     ]
    },
    {
     "data": {
      "image/png": "[encoded data removed]",
      "text/plain": [
       "<Figure size 432x288 with 1 Axes>"
      ]
     },
     "metadata": {},
     "output_type": "display_data"
    }
   ],
   "source": [
    "# Example of a picture\n",
    "import matplotlib.pyplot as plt\n",
    "%matplotlib inline\n",
    "index = 2\n",
    "plt.imshow(X_train[index])\n",
    "print (\"y = \" + str((y_train[index])))"
   ]
  },
  {
   "cell_type": "code",
   "execution_count": 5,
   "metadata": {},
   "outputs": [
    {
     "name": "stdout",
     "output_type": "stream",
     "text": [
      "[1 5 2 ... 0 1 3]\n"
     ]
    }
   ],
   "source": [
    "print(y_train)"
   ]
  },
  {
   "cell_type": "code",
   "execution_count": 6,
   "metadata": {},
   "outputs": [
    {
     "data": {
      "text/plain": [
       "{0, 1, 2, 3, 5}"
      ]
     },
     "execution_count": 6,
     "metadata": {},
     "output_type": "execute_result"
    }
   ],
   "source": [
    "set(y_train)"
   ]
  },
  {
   "cell_type": "code",
   "execution_count": 7,
   "metadata": {},
   "outputs": [],
   "source": [
    "def convert_to_one_hot(Y, C):\n",
    "    Y = np.eye(C)[Y.reshape(-1)].T\n",
    "    return Y"
   ]
  },
  {
   "cell_type": "code",
   "execution_count": 8,
   "metadata": {},
   "outputs": [
    {
     "name": "stdout",
     "output_type": "stream",
     "text": [
      "number of training examples = 5500\n",
      "number of test examples = 1376\n",
      "X_train shape: (12288, 5500)\n",
      "Y_train shape: (6, 5500)\n",
      "X_test shape: (12288, 1376)\n",
      "Y_test shape: (6, 1376)\n"
     ]
    }
   ],
   "source": [
    "# Flatten the training and test images\n",
    "X_train_flatten = X_train.reshape(X_train.shape[0], -1).T\n",
    "X_test_flatten = X_test.reshape(X_test.shape[0], -1).T\n",
    "# Normalize image vectors\n",
    "X_train = X_train_flatten / 255.\n",
    "X_test = X_test_flatten / 255.\n",
    "\n",
    "# Convert training and test labels to one hot matrices\n",
    "Y_train =convert_to_one_hot(y_train, 6)\n",
    "Y_test = convert_to_one_hot(y_test, 6)\n",
    "\n",
    "print(\"number of training examples = \" + str(X_train.shape[1]))\n",
    "print(\"number of test examples = \" + str(X_test.shape[1]))\n",
    "print(\"X_train shape: \" + str(X_train.shape))\n",
    "print(\"Y_train shape: \" + str(Y_train.shape))\n",
    "print(\"X_test shape: \" + str(X_test.shape))\n",
    "print(\"Y_test shape: \" + str(Y_test.shape))"
   ]
  },
  {
   "cell_type": "code",
   "execution_count": 9,
   "metadata": {},
   "outputs": [],
   "source": [
    "def create_placeholders(n_x, n_y):\n",
    "   \n",
    "    X = tf.placeholder(tf.float32, [n_x, None], name=\"X\")\n",
    "    Y = tf.placeholder(tf.float32, [n_y, None], name=\"Y\")\n",
    "    keep_prob=tf.placeholder(tf.float32,name=\"Dropout\")\n",
    "    \n",
    "    return X, Y , keep_prob"
   ]
  },
  {
   "cell_type": "code",
   "execution_count": 10,
   "metadata": {},
   "outputs": [],
   "source": [
    "def initialize_parameters():\n",
    "    \"\"\"\n",
    "    Initializes parameters to build a neural network with tensorflow. \n",
    "    \n",
    "    Returns:\n",
    "    parameters -- a dictionary of tensors containing W1, b1, W2, b2, W3, b3, W4, b4\n",
    "    \"\"\"\n",
    "    \n",
    "    tf.set_random_seed(1)                   # so that your \"random\" numbers match ours\n",
    "        \n",
    "    \n",
    "    W1 = tf.get_variable(\"W1\", [400, 12288], initializer = tf.contrib.layers.xavier_initializer(seed=1))\n",
    "    b1 = tf.get_variable(\"b1\", [400, 1], initializer = tf.zeros_initializer())\n",
    "    W2 = tf.get_variable(\"W2\", [6, 400], initializer = tf.contrib.layers.xavier_initializer(seed=1))\n",
    "    b2 = tf.get_variable(\"b2\", [6, 1], initializer = tf.zeros_initializer())\n",
    "    #W3 = tf.get_variable(\"W3\", [6, 20], initializer = tf.contrib.layers.xavier_initializer(seed=1))\n",
    "    #b3 = tf.get_variable(\"b3\", [6, 1], initializer = tf.zeros_initializer())\n",
    "    #W4 = tf.get_variable(\"W4\", [6, 10], initializer = tf.contrib.layers.xavier_initializer(seed=1))\n",
    "    #b4 = tf.get_variable(\"b4\", [6, 1], initializer = tf.zeros_initializer())\n",
    "    \n",
    "\n",
    "    parameters = {\"W1\": W1,\n",
    "                  \"b1\": b1,\n",
    "                  \"W2\": W2,\n",
    "                  \"b2\": b2}\n",
    "                  #\"W3\": W3,\n",
    "                  #\"b3\": b3}\n",
    "                  #\"W4\": W4,\n",
    "                  #\"b4\": b4}\n",
    "    \n",
    "    return parameters"
   ]
  },
  {
   "cell_type": "code",
   "execution_count": 11,
   "metadata": {},
   "outputs": [],
   "source": [
    "def forward_propagation(X, parameters,keep_prob):\n",
    "    \n",
    "    # Retrieve the parameters from the dictionary \"parameters\" \n",
    "    W1 = parameters['W1']\n",
    "    b1 = parameters['b1']\n",
    "    W2 = parameters['W2']\n",
    "    b2 = parameters['b2']\n",
    "    #W3 = parameters['W3']\n",
    "    #b3 = parameters['b3']\n",
    "    #W4 = parameters['W4']\n",
    "    #b4 = parameters['b4']\n",
    "    \n",
    "                 # Numpy Equivalents:\n",
    "    with tf.device(\"/gpu:0\"):\n",
    "        Z1 = tf.add(tf.matmul(W1, X), b1)                      # Z1 = np.dot(W1, X) + b1\n",
    "        A1 = tf.nn.relu(Z1)                                    # A1 = relu(Z1)\n",
    "        drop_out=tf.nn.dropout(A1,keep_prob)\n",
    "        Z2 = tf.add(tf.matmul(W2,drop_out), b2)                     # Z2 = np.dot(W2, a1) + b2\n",
    "        #A2 = tf.nn.relu(Z2)                                    # A2 = relu(Z2)\n",
    "        #drop_out=tf.nn.dropout(A2,keep_prob)\n",
    "        #Z3 = tf.add(tf.matmul(W3, drop_out), b3)                     # Z3 = np.dot(W3,Z2) + b3\n",
    "        #A3 = tf.nn.relu(Z3)\n",
    "        #drop_out=tf.nn.dropout(A3,keep_prob)\n",
    "        #Z4 = tf.add(tf.matmul(W4,drop_out),b4)\n",
    "    \n",
    "    \n",
    "    return Z2"
   ]
  },
  {
   "cell_type": "code",
   "execution_count": 12,
   "metadata": {},
   "outputs": [],
   "source": [
    "def compute_cost(Z2, Y):\n",
    "    \n",
    "    # to fit the tensorflow requirement for tf.nn.softmax_cross_entropy_with_logits(...,...)\n",
    "    logits = tf.transpose(Z2)\n",
    "    labels = tf.transpose(Y)\n",
    "    \n",
    "    \n",
    "    cost = tf.reduce_mean(tf.nn.softmax_cross_entropy_with_logits(logits=logits, labels=labels))\n",
    "    \n",
    "    \n",
    "    return cost"
   ]
  },
  {
   "cell_type": "code",
   "execution_count": 13,
   "metadata": {},
   "outputs": [],
   "source": [
    "def model(X_train, Y_train, X_test, Y_test, learning_rate = 0.00001,\n",
    "          num_epochs = 1500, minibatch_size = 32, print_cost = True):\n",
    "  \n",
    "    \n",
    "    #Returns:\n",
    "    #parameters -- parameters learnt by the model. They can then be used to predict.\n",
    "    \n",
    "    \n",
    "    #ops.reset_default_graph()                         # to be able to rerun the model without overwriting tf variables\n",
    "    tf.set_random_seed(1)                             # to keep consistent results\n",
    "    seed = 3                                          # to keep consistent results\n",
    "    (n_x, m) = X_train.shape                          # (n_x: input size, m : number of examples in the train set)\n",
    "    n_y = Y_train.shape[0]                            # n_y : output size\n",
    "    costs = []                                        # To keep track of the cost\n",
    "    \n",
    "    # Create Placeholders of shape (n_x, n_y)\n",
    "    \n",
    "    X, Y, keep_prob = create_placeholders(n_x, n_y)\n",
    "    \n",
    "\n",
    "    # Initialize parameters\n",
    "    \n",
    "    parameters = initialize_parameters()\n",
    "    \n",
    "    \n",
    "    # Forward propagation: Build the forward propagation in the tensorflow graph\n",
    "    \n",
    "    with tf.device(\"/gpu:0\"):\n",
    "        Z2 = forward_propagation(X, parameters,keep_prob)\n",
    "    \n",
    "    \n",
    "    # Cost function: Add cost function to tensorflow graph\n",
    "    \n",
    "        cost = compute_cost(Z2, Y)\n",
    "\n",
    "    \n",
    "    # Backpropagation: Define the tensorflow optimizer. Use an AdamOptimizer.\n",
    "    \n",
    "        optimizer = tf.train.AdamOptimizer(learning_rate=learning_rate).minimize(cost)\n",
    "    \n",
    "    \n",
    "    # Initialize all the variables\n",
    "    init = tf.global_variables_initializer()\n",
    "\n",
    "    # Start the session to compute the tensorflow graph\n",
    "    with tf.Session() as sess:\n",
    "        \n",
    "        # Run the initialization\n",
    "        sess.run(init)\n",
    "        \n",
    "        # Do the training loop\n",
    "        for epoch in range(num_epochs):\n",
    "            epoch_cost = 0\n",
    "            \n",
    "            if epoch %100==0:\n",
    "                print(epoch)\n",
    "            \n",
    "            # let's start training\n",
    "            _, c = sess.run([optimizer, cost], feed_dict={X: X_train, Y: Y_train,keep_prob:0.2})\n",
    "            \n",
    "            if epoch %100==0:\n",
    "                print('epoch:',epoch,'-','cost:',c)\n",
    "            # Test model\n",
    "        correct_prediction = tf.equal(tf.argmax(Z2), tf.argmax(Y))\n",
    "\n",
    "        # Calculate accuracy for 3000 examples\n",
    "        accuracy = tf.reduce_mean(tf.cast(correct_prediction, tf.float32))\n",
    "        print(\"Test_Accuracy:\", accuracy.eval({X: X_test, Y: Y_test,keep_prob:1.0}))\n",
    "        print (\"Train Accuracy:\", accuracy.eval({X: X_train, Y: Y_train,keep_prob:1.0}))\n",
    "        \n",
    "        # lets save the parameters in a variable\n",
    "        parameters = sess.run(parameters)\n",
    "        print(\"Parameters have been trained!\")\n",
    "    \n",
    "    \n",
    "        return parameters"
   ]
  },
  {
   "cell_type": "code",
   "execution_count": 14,
   "metadata": {},
   "outputs": [
    {
     "name": "stdout",
     "output_type": "stream",
     "text": [
      "WARNING:tensorflow:From <ipython-input-12-20192902d2e2>:8: softmax_cross_entropy_with_logits (from tensorflow.python.ops.nn_ops) is deprecated and will be removed in a future version.\n",
      "Instructions for updating:\n",
      "\n",
      "Future major versions of TensorFlow will allow gradients to flow\n",
      "into the labels input on backprop by default.\n",
      "\n",
      "See @{tf.nn.softmax_cross_entropy_with_logits_v2}.\n",
      "\n",
      "0\n",
      "epoch: 0 - cost: 2.9398248\n",
      "100\n",
      "epoch: 100 - cost: 1.3003687\n",
      "200\n",
      "epoch: 200 - cost: 1.159558\n",
      "300\n",
      "epoch: 300 - cost: 1.0712638\n",
      "400\n",
      "epoch: 400 - cost: 1.0019842\n",
      "500\n",
      "epoch: 500 - cost: 0.95297337\n",
      "600\n",
      "epoch: 600 - cost: 0.919193\n",
      "700\n",
      "epoch: 700 - cost: 0.8698956\n",
      "800\n",
      "epoch: 800 - cost: 0.84207547\n",
      "900\n",
      "epoch: 900 - cost: 0.81111735\n",
      "1000\n",
      "epoch: 1000 - cost: 0.79343927\n",
      "1100\n",
      "epoch: 1100 - cost: 0.7598449\n",
      "1200\n",
      "epoch: 1200 - cost: 0.7453084\n",
      "1300\n",
      "epoch: 1300 - cost: 0.70756596\n",
      "1400\n",
      "epoch: 1400 - cost: 0.7042816\n",
      "Test_Accuracy: 0.72020346\n",
      "Train Accuracy: 0.85636365\n",
      "Parameters have been trained!\n"
     ]
    }
   ],
   "source": [
    "parameters = model(X_train, Y_train, X_test, Y_test)"
   ]
  },
  {
   "cell_type": "code",
   "execution_count": null,
   "metadata": {
    "collapsed": true
   },
   "outputs": [],
   "source": [
    "import scipy\n",
    "from PIL import Image\n",
    "from scipy import ndimage\n",
    "\n",
    "## START CODE HERE ## (PUT YOUR IMAGE NAME) \n",
    "my_image = \"thumbs_up.jpg\"\n",
    "## END CODE HERE ##\n",
    "\n",
    "# We preprocess your image to fit your algorithm.\n",
    "fname = \"images/\" + my_image\n",
    "image = np.array(ndimage.imread(fname, flatten=False))\n",
    "my_image = scipy.misc.imresize(image, size=(64, 64)).reshape((1, 64 * 64 * 3)).T\n",
    "my_image_prediction = predict(my_image, parameters)\n",
    "\n",
    "plt.imshow(image)\n",
    "print(\"Your algorithm predicts: y = \" + str(np.squeeze(my_image_prediction)))"
   ]
  }
 ],
 "metadata": {
  "kernelspec": {
   "display_name": "Python 3",
   "language": "python",
   "name": "python3"
  },
  "language_info": {
   "codemirror_mode": {
    "name": "ipython",
    "version": 3
   },
   "file_extension": ".py",
   "mimetype": "text/x-python",
   "name": "python",
   "nbconvert_exporter": "python",
   "pygments_lexer": "ipython3",
   "version": "3.5.2"
  }
 },
 "nbformat": 4,
 "nbformat_minor": 2
}
